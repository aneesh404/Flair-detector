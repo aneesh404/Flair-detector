{
 "cells": [
  {
   "cell_type": "markdown",
   "metadata": {},
   "source": [
    "## Experiment log:\n",
    "\n"
   ]
  },
  {
   "cell_type": "markdown",
   "metadata": {},
   "source": [
    "If you want to see a specific row of pandas dataframe object call it using syntax"
   ]
  },
  {
   "cell_type": "markdown",
   "metadata": {},
   "source": [
    "```\n",
    "df.loc[[i]]\n",
    "```"
   ]
  },
  {
   "cell_type": "markdown",
   "metadata": {},
   "source": [
    "where i is the index of the dataframe obj."
   ]
  },
  {
   "cell_type": "markdown",
   "metadata": {},
   "source": [
    "_________________________\n",
    "A sample where taking body into account would really help the classifier:\n",
    "    \n",
    "F**k all Religion \t|17894| \tf9outu| \tindia| \thttps://www.reddit.com/r/india/comments/f9outu... \t|4192| \tF**k all religion. F**k Hindusim, f**k Islam, ... \t|1.582726e+09 |\tPolitics|\n",
    "\n",
    "The title would have led the model to believe that the flair should be Non-political,\n",
    "but turns out it is political.\n",
    "\n",
    "___________________________"
   ]
  },
  {
   "cell_type": "markdown",
   "metadata": {},
   "source": [
    "\n",
    "    data can be concatinated into a dataframe object, also axis can be selected while passing the arguments\n",
    "_________________________"
   ]
  },
  {
   "cell_type": "markdown",
   "metadata": {},
   "source": [
    "\n",
    "\n",
    "```\n",
    "fig_dims = (x,y)\n",
    "fig, ax = plt.subplots(figsize=fig_dims)\n",
    "```\n",
    "can be used to specify the plot dimensions \n",
    "____________________"
   ]
  },
  {
   "cell_type": "markdown",
   "metadata": {},
   "source": [
    "the following code snippet \n",
    "```\n",
    "dataframe.column_name.unique()\n",
    "```\n",
    "gives all the unique elements in the column specified"
   ]
  },
  {
   "cell_type": "markdown",
   "metadata": {},
   "source": [
    "______________________________\n",
    "further improvements(if time permits)\n",
    "     \n",
    "     instead of reddit titles, use reddit top comments to classify\n",
    "     flair and later try to make an ensemble model with waited average\n",
    "     of different data sources (ie. comments, titles,score)\n",
    "        \n",
    "    Try to use a more heavy-weight model for text classification, such as Bert \n",
    "    and see if it is an overkill or not.\n",
    "    \n",
    "    Try using various statergies and flavours of models used, such as gaussian \n",
    "    Naive Bayes,and other SVM types too to see what difference they have.\n",
    "    \n",
    "    \n",
    "\n"
   ]
  },
  {
   "cell_type": "code",
   "execution_count": null,
   "metadata": {},
   "outputs": [],
   "source": []
  }
 ],
 "metadata": {
  "kernelspec": {
   "display_name": "Python 3",
   "language": "python",
   "name": "python3"
  },
  "language_info": {
   "codemirror_mode": {
    "name": "ipython",
    "version": 3
   },
   "file_extension": ".py",
   "mimetype": "text/x-python",
   "name": "python",
   "nbconvert_exporter": "python",
   "pygments_lexer": "ipython3",
   "version": "3.6.9"
  }
 },
 "nbformat": 4,
 "nbformat_minor": 4
}
