{
 "cells": [
  {
   "cell_type": "markdown",
   "metadata": {},
   "source": [
    "# Flair Classification\n"
   ]
  },
  {
   "cell_type": "code",
   "execution_count": null,
   "metadata": {},
   "outputs": [],
   "source": [
    "'''\n",
    "        TODO:\n",
    "        \n",
    "        [] PUT EVERYTHING IN CLASSES\n",
    "    \n",
    "        [] MAKE DIFFERENT SECTIONS, ONE WITH ALMOST NO CHANGES DONE TO THE DATA\n",
    "        \n",
    "        [] OTHER WITH LEMITIZATION,AND STUFF DONE\n",
    "        \n",
    "        [] checkout select k best scikit learn seems promising, dont really know what it is right now\n",
    "\n",
    "\n",
    "\n",
    "'''"
   ]
  },
  {
   "cell_type": "code",
   "execution_count": 272,
   "metadata": {},
   "outputs": [],
   "source": [
    "# from EDA import *\n",
    "from sklearn.preprocessing import LabelEncoder\n",
    "import numpy as np\n",
    "from sklearn.feature_extraction.text import CountVectorizer\n",
    "from sklearn.ensemble import RandomForestClassifier\n",
    "from sklearn import datasets\n",
    "import pandas as pd\n",
    "import matplotlib.pyplot as plt"
   ]
  },
  {
   "cell_type": "code",
   "execution_count": 273,
   "metadata": {},
   "outputs": [],
   "source": [
    "from sklearn.naive_bayes import MultinomialNB\n",
    "from sklearn.pipeline import Pipeline\n",
    "from sklearn.feature_extraction.text import TfidfTransformer\n",
    "\n",
    "import seaborn as sns"
   ]
  },
  {
   "cell_type": "code",
   "execution_count": 274,
   "metadata": {},
   "outputs": [],
   "source": [
    "from sklearn import svm"
   ]
  },
  {
   "cell_type": "code",
   "execution_count": 275,
   "metadata": {},
   "outputs": [],
   "source": [
    "from sklearn.linear_model import LogisticRegression\n"
   ]
  },
  {
   "cell_type": "markdown",
   "metadata": {},
   "source": [
    "### Method 1: Random Forests"
   ]
  },
  {
   "cell_type": "markdown",
   "metadata": {},
   "source": [
    "As we noticed in the EDA section, the data was a bit skewed and not equally distributed.In such conditions, Random Forest works well,hence starting by that method.\n"
   ]
  },
  {
   "cell_type": "code",
   "execution_count": 403,
   "metadata": {},
   "outputs": [],
   "source": [
    "hot_top_new_posts = pd.read_csv('data_new.csv')"
   ]
  },
  {
   "cell_type": "code",
   "execution_count": 404,
   "metadata": {},
   "outputs": [],
   "source": [
    "hot_top_new_posts = hot_top_new_posts.drop(columns = ['num_comments','body'])\n",
    "hot_top_new_posts.reset_index(drop=True, inplace=True)\n"
   ]
  },
  {
   "cell_type": "code",
   "execution_count": 405,
   "metadata": {},
   "outputs": [],
   "source": [
    "hot_top_new_posts = hot_top_new_posts[hot_top_new_posts.flair!='Misleading']\n",
    "hot_top_new_posts = hot_top_new_posts[hot_top_new_posts.flair!='Food']"
   ]
  },
  {
   "cell_type": "code",
   "execution_count": 406,
   "metadata": {},
   "outputs": [],
   "source": [
    "from sklearn.model_selection import train_test_split\n",
    "X_train, X_test, y_train, y_test = train_test_split(hnp.title, hnp.flair, test_size=0.15, random_state = 42)"
   ]
  },
  {
   "cell_type": "code",
   "execution_count": 407,
   "metadata": {},
   "outputs": [
    {
     "data": {
      "text/plain": [
       "[Text(0.5, 1.0, 'Flair v/s their count')]"
      ]
     },
     "execution_count": 407,
     "metadata": {},
     "output_type": "execute_result"
    },
    {
     "data": {
      "image/png": "[encoded data removed]",
      "text/plain": [
       "<Figure size 504x864 with 1 Axes>"
      ]
     },
     "metadata": {},
     "output_type": "display_data"
    }
   ],
   "source": [
    "fig_dims = (7, 12)\n",
    "fig, ax = plt.subplots(figsize=fig_dims)\n",
    "sns.set(style=\"whitegrid\")\n",
    "sns.countplot(y=\"flair\",ax=ax,data=hot_top_new_posts).set(title = \"Flair v/s their count\")"
   ]
  },
  {
   "cell_type": "code",
   "execution_count": 442,
   "metadata": {},
   "outputs": [
    {
     "data": {
      "text/plain": [
       "1521"
      ]
     },
     "execution_count": 442,
     "metadata": {},
     "output_type": "execute_result"
    }
   ],
   "source": [
    "len(y_train)"
   ]
  },
  {
   "cell_type": "code",
   "execution_count": 301,
   "metadata": {},
   "outputs": [],
   "source": [
    "# ##encoding each class in column flair\n",
    "# num = LabelEncoder()\n",
    "# hnp['flair'] = num.fit_transform(hnp['flair'].astype(str))\n",
    "# hnp.head()"
   ]
  },
  {
   "cell_type": "code",
   "execution_count": 443,
   "metadata": {},
   "outputs": [],
   "source": [
    "hnp = hot_top_new_posts.copy(deep=True)\n",
    "hnp = hnp[hnp.flair!='nan']"
   ]
  },
  {
   "cell_type": "code",
   "execution_count": 444,
   "metadata": {},
   "outputs": [],
   "source": [
    "X_train = X_train.fillna('')\n",
    "y_train = y_train.fillna('')\n",
    "\n",
    "\n",
    "rmv_indices = []\n",
    "for i in range(y_train.shape[0]):\n",
    "    if y_train[i] == '':\n",
    "        rmv_indices.append(i)\n",
    "        print(i)"
   ]
  },
  {
   "cell_type": "code",
   "execution_count": 445,
   "metadata": {
    "scrolled": true
   },
   "outputs": [],
   "source": [
    "X_train.reset_index(drop=True, inplace=True)\n",
    "y_train.reset_index(drop=True, inplace=True)"
   ]
  },
  {
   "cell_type": "code",
   "execution_count": 446,
   "metadata": {},
   "outputs": [],
   "source": [
    "rmv_indices = []\n",
    "for i in range(y_train.shape[0]):\n",
    "    if y_train[i] == '':\n",
    "        rmv_indices.append(i)\n",
    "        print(i)\n"
   ]
  },
  {
   "cell_type": "code",
   "execution_count": 447,
   "metadata": {},
   "outputs": [],
   "source": [
    "y_train = y_train.drop(y_train.index[rmv_indices])\n",
    "X_train = X_train.drop(X_train.index[rmv_indices])\n",
    "X_train.reset_index(drop=True, inplace=True)\n",
    "y_train.reset_index(drop=True, inplace=True)"
   ]
  },
  {
   "cell_type": "code",
   "execution_count": 448,
   "metadata": {},
   "outputs": [],
   "source": [
    "for i in range(y_train.shape[0]):\n",
    "    if y_train[i] == 'nan':\n",
    "        print(i)"
   ]
  },
  {
   "cell_type": "code",
   "execution_count": 449,
   "metadata": {},
   "outputs": [
    {
     "data": {
      "text/plain": [
       "11"
      ]
     },
     "execution_count": 449,
     "metadata": {},
     "output_type": "execute_result"
    }
   ],
   "source": [
    "hnp = hnp[hnp.flair!='']\n",
    "len(hnp.flair.unique())"
   ]
  },
  {
   "cell_type": "code",
   "execution_count": 450,
   "metadata": {
    "scrolled": true
   },
   "outputs": [],
   "source": [
    "rfc = Pipeline([('vect', CountVectorizer()),\n",
    "                   ('tfidf', TfidfTransformer()),\n",
    "                   ('clf', RandomForestClassifier(n_estimators = 1000, random_state = 42,n_jobs=5,class_weight = \"balanced\")),\n",
    "                  ])\n",
    "\n",
    "RM = rfc.fit(X_train, y_train)\n"
   ]
  },
  {
   "cell_type": "code",
   "execution_count": 439,
   "metadata": {},
   "outputs": [
    {
     "data": {
      "text/plain": [
       "10"
      ]
     },
     "execution_count": 439,
     "metadata": {},
     "output_type": "execute_result"
    }
   ],
   "source": [
    "len([flr for flr in hnp.flair.unique()])"
   ]
  },
  {
   "cell_type": "code",
   "execution_count": 440,
   "metadata": {
    "scrolled": true
   },
   "outputs": [
    {
     "name": "stdout",
     "output_type": "stream",
     "text": [
      "accuracy 0.5185185185185185\n",
      "                    precision    recall  f1-score   support\n",
      "\n",
      "       Coronavirus       0.00      0.00      0.00        17\n",
      "     Non-Political       0.40      0.17      0.24        12\n",
      "          Politics       0.72      0.82      0.77        56\n",
      "            Sports       0.42      0.79      0.55        80\n",
      "          AskIndia       0.00      0.00      0.00         9\n",
      "  Business/Finance       0.65      0.40      0.50        70\n",
      "Science/Technology       0.00      0.00      0.00         2\n",
      "          policies       0.00      0.00      0.00         5\n",
      "       Photography       0.00      0.00      0.00         4\n",
      "     [R]eddiquette       0.25      0.07      0.11        15\n",
      "\n",
      "          accuracy                           0.52       270\n",
      "         macro avg       0.24      0.22      0.22       270\n",
      "      weighted avg       0.47      0.52      0.47       270\n",
      "\n"
     ]
    },
    {
     "name": "stderr",
     "output_type": "stream",
     "text": [
      "/home/anton/.local/lib/python3.6/site-packages/sklearn/metrics/_classification.py:1272: UndefinedMetricWarning: Precision and F-score are ill-defined and being set to 0.0 in labels with no predicted samples. Use `zero_division` parameter to control this behavior.\n",
      "  _warn_prf(average, modifier, msg_start, len(result))\n"
     ]
    }
   ],
   "source": [
    "flairz = [flr for flr in hnp.flair.unique()]\n",
    "y_pred = []\n",
    "\n",
    "y_pred = rfc.predict(X_test)\n",
    "\n",
    "from sklearn.metrics import classification_report\n",
    "from sklearn.metrics import accuracy_score\n",
    "\n",
    "print('accuracy %s' % accuracy_score(y_pred, y_test))\n",
    "print(classification_report(y_test, y_pred,target_names=flairz))\n"
   ]
  },
  {
   "cell_type": "code",
   "execution_count": null,
   "metadata": {},
   "outputs": [],
   "source": [
    "y_train.unique()\n"
   ]
  },
  {
   "cell_type": "code",
   "execution_count": null,
   "metadata": {},
   "outputs": [],
   "source": [
    "hot_top_new_posts.loc[1475]"
   ]
  },
  {
   "cell_type": "code",
   "execution_count": null,
   "metadata": {},
   "outputs": [],
   "source": [
    "hot_top_new_posts.reset_index(drop=True, inplace=True)\n",
    "hot_top_new_posts.loc[527]"
   ]
  },
  {
   "cell_type": "code",
   "execution_count": 31,
   "metadata": {},
   "outputs": [
    {
     "name": "stdout",
     "output_type": "stream",
     "text": [
      "                                                  title  flair  \\\n",
      "1                 recreation humanity artist hasif khan      3   \n",
      "3                                           responsible      3   \n",
      "7     lives hearts kashmiris mourn khalsa aid worker...      3   \n",
      "12    watch mumbai man refuses grocery delivery boys...      3   \n",
      "13    wont disown work meet photojournalist charged ...      3   \n",
      "...                                                 ...    ...   \n",
      "1717  happened couple days back far know india cours...      3   \n",
      "1718                        life saving reddit campaign      3   \n",
      "1736  want create show like cosmos bill nye india co...      3   \n",
      "1756                              seeking career advice      3   \n",
      "1785                                  want know country      3   \n",
      "\n",
      "                                              tokenized  \n",
      "1                 recreation humanity artist hasif khan  \n",
      "3                                           responsible  \n",
      "7     lives hearts kashmiris mourn khalsa aid worker...  \n",
      "12    watch mumbai man refuses grocery delivery boys...  \n",
      "13    wont disown work meet photojournalist charged ...  \n",
      "...                                                 ...  \n",
      "1717  happened couple days back far know india cours...  \n",
      "1718                        life saving reddit campaign  \n",
      "1736  want create show like cosmos bill nye india co...  \n",
      "1756                              seeking career advice  \n",
      "1785                                  want know country  \n",
      "\n",
      "[544 rows x 3 columns]\n"
     ]
    }
   ],
   "source": [
    "print(hnp[hnp.flair==3])"
   ]
  },
  {
   "cell_type": "code",
   "execution_count": 34,
   "metadata": {},
   "outputs": [],
   "source": [
    "hnp = hnp.drop(columns = ['title'])"
   ]
  },
  {
   "cell_type": "code",
   "execution_count": 102,
   "metadata": {},
   "outputs": [],
   "source": [
    "from sklearn.pipeline import Pipeline\n",
    "from sklearn.feature_extraction.text import TfidfTransformer"
   ]
  },
  {
   "cell_type": "code",
   "execution_count": 41,
   "metadata": {},
   "outputs": [
    {
     "data": {
      "text/plain": [
       "0           coronavirus covid19 megathread news updates 4\n",
       "1                   recreation humanity artist hasif khan\n",
       "2                                              two lenses\n",
       "3                                             responsible\n",
       "4                                 mumbai police meri jaan\n",
       "                              ...                        \n",
       "1783    coronavirus outbreak woman travel history symp...\n",
       "1784                                        testing right\n",
       "1785                                    want know country\n",
       "1786    barring delivery nonessentials ecommerce disap...\n",
       "1787       planning move another rented apartment 3rd may\n",
       "Name: tokenized, Length: 1770, dtype: object"
      ]
     },
     "execution_count": 41,
     "metadata": {},
     "output_type": "execute_result"
    }
   ],
   "source": [
    "hnp.tokenized"
   ]
  },
  {
   "cell_type": "code",
   "execution_count": 48,
   "metadata": {},
   "outputs": [],
   "source": []
  },
  {
   "cell_type": "code",
   "execution_count": 441,
   "metadata": {},
   "outputs": [
    {
     "data": {
      "text/plain": [
       "<matplotlib.axes._subplots.AxesSubplot at 0x7ff2f60d5cc0>"
      ]
     },
     "execution_count": 441,
     "metadata": {},
     "output_type": "execute_result"
    },
    {
     "data": {
      "image/png": "[encoded data removed]",
      "text/plain": [
       "<Figure size 720x504 with 2 Axes>"
      ]
     },
     "metadata": {
      "needs_background": "light"
     },
     "output_type": "display_data"
    }
   ],
   "source": [
    "\n",
    "# titles_options = [(\"Confusion matrix, without normalization\", None),\n",
    "#                   (\"Normalized confusion matrix\", 'true')]\n",
    "# for title, normalize in titles_options:\n",
    "#     disp = plot_confusion_matrix(rfc, X_test, y_test,\n",
    "#                                  display_labels=flairz,\n",
    "#                                  cmap=plt.cm.Blues,\n",
    "#                                  normalize=normalize)\n",
    "#     disp.ax_.set_title(title)\n",
    "\n",
    "#     print(title)\n",
    "#     print(disp.confusion_matrix)\n",
    "\n",
    "\n",
    "\n",
    "from sklearn.metrics import confusion_matrix\n",
    "import pandas as pd\n",
    "import seaborn as sn\n",
    "import matplotlib.pyplot as plt\n",
    "%matplotlib inline\n",
    "import numpy as np\n",
    "\n",
    "data = confusion_matrix(y_test, y_pred)\n",
    "df_cm = pd.DataFrame(data, columns=np.unique(y_test), index = np.unique(y_test))\n",
    "df_cm.index.name = 'Actual'\n",
    "df_cm.columns.name = 'Predicted'\n",
    "plt.figure(figsize = (10,7))\n",
    "sn.set(font_scale=1.4)#for label size\n",
    "sn.heatmap(df_cm, cmap=\"Blues\", annot=True,annot_kws={\"size\": 16})# font size"
   ]
  },
  {
   "cell_type": "markdown",
   "metadata": {},
   "source": [
    "## Method 2: Naive Bayes"
   ]
  },
  {
   "cell_type": "code",
   "execution_count": 244,
   "metadata": {},
   "outputs": [],
   "source": [
    "data_gen = Pipeline([('vect', CountVectorizer()),('tfidf', TfidfTransformer()),('clf', MultinomialNB()),])"
   ]
  },
  {
   "cell_type": "code",
   "execution_count": 245,
   "metadata": {},
   "outputs": [
    {
     "data": {
      "text/plain": [
       "Pipeline(memory=None,\n",
       "         steps=[('vect',\n",
       "                 CountVectorizer(analyzer='word', binary=False,\n",
       "                                 decode_error='strict',\n",
       "                                 dtype=<class 'numpy.int64'>, encoding='utf-8',\n",
       "                                 input='content', lowercase=True, max_df=1.0,\n",
       "                                 max_features=None, min_df=1,\n",
       "                                 ngram_range=(1, 1), preprocessor=None,\n",
       "                                 stop_words=None, strip_accents=None,\n",
       "                                 token_pattern='(?u)\\\\b\\\\w\\\\w+\\\\b',\n",
       "                                 tokenizer=None, vocabulary=None)),\n",
       "                ('tfidf',\n",
       "                 TfidfTransformer(norm='l2', smooth_idf=True,\n",
       "                                  sublinear_tf=False, use_idf=True)),\n",
       "                ('clf',\n",
       "                 MultinomialNB(alpha=1.0, class_prior=None, fit_prior=True))],\n",
       "         verbose=False)"
      ]
     },
     "execution_count": 245,
     "metadata": {},
     "output_type": "execute_result"
    }
   ],
   "source": [
    "data_gen.fit(X_train, y_train)"
   ]
  },
  {
   "cell_type": "code",
   "execution_count": 246,
   "metadata": {},
   "outputs": [],
   "source": [
    "y_pred = data_gen.predict(X_test)"
   ]
  },
  {
   "cell_type": "code",
   "execution_count": 247,
   "metadata": {},
   "outputs": [
    {
     "name": "stdout",
     "output_type": "stream",
     "text": [
      "accuracy 0.5217391304347826\n",
      "                    precision    recall  f1-score   support\n",
      "\n",
      "       Coronavirus       0.00      0.00      0.00        24\n",
      "     Non-Political       0.00      0.00      0.00         4\n",
      "          Politics       0.65      0.60      0.62        47\n",
      "          AskIndia       0.49      0.78      0.60        88\n",
      "          policies       0.00      0.00      0.00         5\n",
      "  Business/Finance       0.51      0.60      0.56        58\n",
      "       Photography       0.00      0.00      0.00         5\n",
      "Science/Technology       0.00      0.00      0.00         2\n",
      "            Sports       0.00      0.00      0.00         7\n",
      "     [R]eddiquette       0.00      0.00      0.00        13\n",
      "\n",
      "          accuracy                           0.52       253\n",
      "         macro avg       0.17      0.20      0.18       253\n",
      "      weighted avg       0.41      0.52      0.45       253\n",
      "\n"
     ]
    },
    {
     "name": "stderr",
     "output_type": "stream",
     "text": [
      "/home/anton/.local/lib/python3.6/site-packages/sklearn/metrics/_classification.py:1272: UndefinedMetricWarning: Precision and F-score are ill-defined and being set to 0.0 in labels with no predicted samples. Use `zero_division` parameter to control this behavior.\n",
      "  _warn_prf(average, modifier, msg_start, len(result))\n"
     ]
    }
   ],
   "source": [
    "from sklearn.metrics import classification_report\n",
    "from sklearn.metrics import accuracy_score\n",
    "\n",
    "print('accuracy %s' % accuracy_score(y_pred, y_test))\n",
    "print(classification_report(y_test, y_pred,target_names=flairz))"
   ]
  },
  {
   "cell_type": "code",
   "execution_count": 55,
   "metadata": {},
   "outputs": [],
   "source": [
    "#                  TODO:\n",
    "\n",
    "#### Check accuracy when new data is added\n",
    "\n",
    "### add advantages/disadvantages of every model\n",
    "\n",
    "####check for time taken to run the block\n"
   ]
  },
  {
   "cell_type": "markdown",
   "metadata": {},
   "source": [
    "## SVM"
   ]
  },
  {
   "cell_type": "code",
   "execution_count": 248,
   "metadata": {},
   "outputs": [
    {
     "data": {
      "text/plain": [
       "'\\n    checkout this alternative svm implementation as well\\n    https://scikit-learn.org/stable/modules/generated/sklearn.pipeline.Pipeline.html\\n\\n'"
      ]
     },
     "execution_count": 248,
     "metadata": {},
     "output_type": "execute_result"
    }
   ],
   "source": [
    "'''\n",
    "    checkout this alternative svm implementation as well\n",
    "    https://scikit-learn.org/stable/modules/generated/sklearn.pipeline.Pipeline.html\n",
    "\n",
    "'''"
   ]
  },
  {
   "cell_type": "code",
   "execution_count": 254,
   "metadata": {},
   "outputs": [
    {
     "name": "stdout",
     "output_type": "stream",
     "text": [
      "accuracy 0.5217391304347826\n",
      "                    precision    recall  f1-score   support\n",
      "\n",
      "       Coronavirus       0.00      0.00      0.00        24\n",
      "     Non-Political       0.00      0.00      0.00         4\n",
      "          Politics       0.65      0.60      0.62        47\n",
      "          AskIndia       0.49      0.78      0.60        88\n",
      "          policies       0.00      0.00      0.00         5\n",
      "  Business/Finance       0.51      0.60      0.56        58\n",
      "       Photography       0.00      0.00      0.00         5\n",
      "Science/Technology       0.00      0.00      0.00         2\n",
      "            Sports       0.00      0.00      0.00         7\n",
      "     [R]eddiquette       0.00      0.00      0.00        13\n",
      "\n",
      "          accuracy                           0.52       253\n",
      "         macro avg       0.17      0.20      0.18       253\n",
      "      weighted avg       0.41      0.52      0.45       253\n",
      "\n"
     ]
    },
    {
     "name": "stderr",
     "output_type": "stream",
     "text": [
      "/home/anton/.local/lib/python3.6/site-packages/sklearn/metrics/_classification.py:1272: UndefinedMetricWarning: Precision and F-score are ill-defined and being set to 0.0 in labels with no predicted samples. Use `zero_division` parameter to control this behavior.\n",
      "  _warn_prf(average, modifier, msg_start, len(result))\n"
     ]
    }
   ],
   "source": [
    "SVM = svm.SVC()\n",
    "X_train = vectorizer.fit_transform(X_train)\n",
    "\n",
    "SVM.fit(X_train, y_train)\n",
    "SVM.predict(vectorizer.transform([\"Who else remember the Beyblade tazos spinners come with lays & cheetos back in 2000's?\"]).toarray())\n",
    "\n",
    "from sklearn.metrics import classification_report\n",
    "from sklearn.metrics import accuracy_score\n",
    "\n",
    "print('accuracy %s' % accuracy_score(y_pred, y_test))\n",
    "print(classification_report(y_test, y_pred,target_names=flairz))"
   ]
  },
  {
   "cell_type": "markdown",
   "metadata": {},
   "source": [
    "## Logistic Regression\n"
   ]
  },
  {
   "cell_type": "code",
   "execution_count": 258,
   "metadata": {},
   "outputs": [
    {
     "data": {
      "text/plain": [
       "Pipeline(memory=None,\n",
       "         steps=[('vect',\n",
       "                 CountVectorizer(analyzer='word', binary=False,\n",
       "                                 decode_error='strict',\n",
       "                                 dtype=<class 'numpy.int64'>, encoding='utf-8',\n",
       "                                 input='content', lowercase=True, max_df=1.0,\n",
       "                                 max_features=None, min_df=1,\n",
       "                                 ngram_range=(1, 1), preprocessor=None,\n",
       "                                 stop_words=None, strip_accents=None,\n",
       "                                 token_pattern='(?u)\\\\b\\\\w\\\\w+\\\\b',\n",
       "                                 tokenizer=None, vocabulary=None)),\n",
       "                ('tfidf',\n",
       "                 TfidfTransformer(norm='l2', smooth_idf=True,\n",
       "                                  sublinear_tf=False, use_idf=True)),\n",
       "                ('clf',\n",
       "                 LogisticRegression(C=100000.0, class_weight=None, dual=False,\n",
       "                                    fit_intercept=True, intercept_scaling=1,\n",
       "                                    l1_ratio=None, max_iter=100,\n",
       "                                    multi_class='auto', n_jobs=5, penalty='l2',\n",
       "                                    random_state=None, solver='lbfgs',\n",
       "                                    tol=0.0001, verbose=0, warm_start=False))],\n",
       "         verbose=False)"
      ]
     },
     "execution_count": 258,
     "metadata": {},
     "output_type": "execute_result"
    }
   ],
   "source": [
    "\n",
    "log_reg = Pipeline([('vect', CountVectorizer()),\n",
    "                ('tfidf', TfidfTransformer()),\n",
    "                ('clf', LogisticRegression(n_jobs=5, C=1e5)),  ##set number of jobs accd to cpu\n",
    "               ])\n",
    "log_reg.fit(X_train, y_train)"
   ]
  },
  {
   "cell_type": "code",
   "execution_count": 259,
   "metadata": {},
   "outputs": [],
   "source": [
    "y_pred = log_reg.predict([\"Who else remember the Beyblade tazos spinners come with lays & cheetos back in 2000's?\"])"
   ]
  },
  {
   "cell_type": "code",
   "execution_count": 260,
   "metadata": {},
   "outputs": [
    {
     "data": {
      "text/plain": [
       "array(['Non-Political'], dtype=object)"
      ]
     },
     "execution_count": 260,
     "metadata": {},
     "output_type": "execute_result"
    }
   ],
   "source": [
    "y_pred"
   ]
  },
  {
   "cell_type": "code",
   "execution_count": null,
   "metadata": {},
   "outputs": [],
   "source": []
  }
 ],
 "metadata": {
  "kernelspec": {
   "display_name": "Python 3",
   "language": "python",
   "name": "python3"
  },
  "language_info": {
   "codemirror_mode": {
    "name": "ipython",
    "version": 3
   },
   "file_extension": ".py",
   "mimetype": "text/x-python",
   "name": "python",
   "nbconvert_exporter": "python",
   "pygments_lexer": "ipython3",
   "version": "3.6.9"
  }
 },
 "nbformat": 4,
 "nbformat_minor": 4
}
